{
 "cells": [
  {
   "cell_type": "markdown",
   "metadata": {},
   "source": [
    "# Advertisement Text Clustering"
   ]
  },
  {
   "cell_type": "code",
   "execution_count": 1,
   "metadata": {
    "collapsed": false
   },
   "outputs": [],
   "source": [
    "from itertools import combinations\n",
    "from bs4 import BeautifulSoup\n",
    "import ujson as json\n",
    "import os\n",
    "import pandas as pd\n",
    "from html.parser import HTMLParser\n",
    "\n",
    "from nltk.tokenize import sent_tokenize\n",
    "from nltk.tokenize import word_tokenize\n",
    "\n",
    "hp = HTMLParser(convert_charrefs=True)\n",
    "\n",
    "root_path = os.path.abspath('../pedro_img_lookups/')\n",
    "ls = [os.path.join(root_path, x) for x in os.listdir(root_path) if x[-5:] == '.json']\n",
    "\n",
    "jsns = [json.load(open(fpath, 'r')) for fpath in ls]"
   ]
  },
  {
   "cell_type": "code",
   "execution_count": 2,
   "metadata": {
    "collapsed": false
   },
   "outputs": [],
   "source": [
    "def parse_ad_text(body):\n",
    "    txt = hp.unescape(BeautifulSoup(body).get_text())\n",
    "    return ' '.join(txt.strip().split()).strip()\n",
    "\n",
    "seen_ids = set()\n",
    "hits = []\n",
    "for jsn in jsns:\n",
    "    results = jsn['hits']['hits']\n",
    "    for res in results:\n",
    "        if res['_id'] in seen_ids:\n",
    "            continue\n",
    "        seen_ids.add(res['_id'])\n",
    "        base_entry_dict = {'dig_id': res['_id'], 'body': ''}\n",
    "        if 'hasBodyPart.text' in res['fields']:\n",
    "            base_entry_dict['body'] = parse_ad_text(res['fields']['hasBodyPart.text'][0])\n",
    "        for img_url in res['fields']['hasImagePart.cacheUrl']:\n",
    "            base_entry_dict['img_url'] = img_url\n",
    "            hits.append(base_entry_dict.copy())"
   ]
  },
  {
   "cell_type": "code",
   "execution_count": 3,
   "metadata": {
    "collapsed": false
   },
   "outputs": [
    {
     "name": "stdout",
     "output_type": "stream",
     "text": [
      "There are 1683 ads, with 13240 images\n"
     ]
    }
   ],
   "source": [
    "print('There are {} ads, with {} images'.format(len(seen_ids), len(hits)))"
   ]
  },
  {
   "cell_type": "code",
   "execution_count": 4,
   "metadata": {
    "collapsed": false
   },
   "outputs": [
    {
     "name": "stdout",
     "output_type": "stream",
     "text": [
      "(13240, 3)\n"
     ]
    }
   ],
   "source": [
    "img_df = pd.DataFrame.from_records(hits)\n",
    "print(img_df.shape)"
   ]
  },
  {
   "cell_type": "code",
   "execution_count": 5,
   "metadata": {
    "collapsed": false
   },
   "outputs": [
    {
     "name": "stdout",
     "output_type": "stream",
     "text": [
      "(13240, 4)\n",
      "Index(['body', 'dig_id', 'cluster', 'id'], dtype='object')\n"
     ]
    }
   ],
   "source": [
    "import hashlib\n",
    "img_df['cluster'] = [hashlib.sha1(x.encode('utf8')).hexdigest() for x in img_df['body']]\n",
    "img_df['id'] = img_df['img_url'].apply(\n",
    "    lambda x: x.replace('https://s3.amazonaws.com/roxyimages/', '').replace('.jpg', ''))\n",
    "del img_df['img_url']\n",
    "img_df['dig_id'] = img_df['dig_id'].apply(lambda x: x.replace('http://dig.isi.edu/ht/data/page/', ''))\n",
    "\n",
    "print(img_df.shape)\n",
    "print(img_df.columns)"
   ]
  },
  {
   "cell_type": "code",
   "execution_count": 6,
   "metadata": {
    "collapsed": true
   },
   "outputs": [],
   "source": [
    "bad_val = 'df9bca22d5f1faa7ca715bf6dbbca2f6c5668a14'"
   ]
  },
  {
   "cell_type": "code",
   "execution_count": 8,
   "metadata": {
    "collapsed": false
   },
   "outputs": [
    {
     "data": {
      "text/plain": [
       "False"
      ]
     },
     "execution_count": 8,
     "metadata": {},
     "output_type": "execute_result"
    }
   ],
   "source": [
    "bad_val in img_df['id']"
   ]
  },
  {
   "cell_type": "code",
   "execution_count": 10,
   "metadata": {
    "collapsed": false
   },
   "outputs": [
    {
     "data": {
      "text/plain": [
       "True"
      ]
     },
     "execution_count": 10,
     "metadata": {},
     "output_type": "execute_result"
    }
   ],
   "source": [
    "bad_val in [x.split('/')[-1].rstrip('.json') for x in ls]"
   ]
  },
  {
   "cell_type": "code",
   "execution_count": 11,
   "metadata": {
    "collapsed": false
   },
   "outputs": [
    {
     "data": {
      "text/plain": [
       "'/Users/pmlandwehr/git/giantoak/qpr_two/pedro_img_lookups/006b0743ef18bcefa4ccdb5204690a8947bf25a0.json'"
      ]
     },
     "execution_count": 11,
     "metadata": {},
     "output_type": "execute_result"
    }
   ],
   "source": [
    "ls[0]"
   ]
  },
  {
   "cell_type": "code",
   "execution_count": 13,
   "metadata": {
    "collapsed": false
   },
   "outputs": [],
   "source": [
    "jsn = json.load(open(os.path.join('../pedro_img_lookups/', bad_val+'.json')))"
   ]
  },
  {
   "cell_type": "code",
   "execution_count": 14,
   "metadata": {
    "collapsed": false
   },
   "outputs": [
    {
     "data": {
      "text/plain": [
       "{'_shards': {'failed': 0, 'successful': 40, 'total': 40},\n",
       " 'hits': {'hits': [], 'max_score': None, 'total': 0},\n",
       " 'timed_out': False,\n",
       " 'took': 151}"
      ]
     },
     "execution_count": 14,
     "metadata": {},
     "output_type": "execute_result"
    }
   ],
   "source": [
    "jsn"
   ]
  },
  {
   "cell_type": "code",
   "execution_count": 6,
   "metadata": {
    "collapsed": false
   },
   "outputs": [],
   "source": [
    "def get_token_set(x):\n",
    "    toks = []\n",
    "    for sent in sent_tokenize(x):\n",
    "        toks.extend(word_tokenize(sent))\n",
    "    return frozenset(toks)\n",
    "\n",
    "text_dict = {ad_text: get_token_set(ad_text) for ad_text in list(img_df['body'].unique())}\n",
    "cluster_dict = {hashlib.sha1(ad_text.encode('utf8')).hexdigest(): get_token_set(ad_text)\n",
    "                for ad_text in list(img_df['body'].unique())}"
   ]
  },
  {
   "cell_type": "code",
   "execution_count": 7,
   "metadata": {
    "collapsed": false
   },
   "outputs": [],
   "source": [
    "cluster_keys = list(cluster_dict.keys())\n",
    "jaccard_dict = {'cluster_pairs': [], 'jaccard_body': []}\n",
    "cluster_index = list(combinations(cluster_keys, 2))\n",
    "for one, two in cluster_index:\n",
    "    num = len(cluster_dict[one] & cluster_dict[two])\n",
    "    denom = len(cluster_dict[one] | cluster_dict[two])\n",
    "    jaccard_dict['jaccard_body'].append(1.*num/denom)\n",
    "    jaccard_dict['cluster_pairs'].append(frozenset([one, two]))\n",
    "\n",
    "cluster_df = pd.DataFrame(jaccard_dict)\n",
    "cluster_df.set_index('cluster_pairs', inplace=True)"
   ]
  },
  {
   "cell_type": "code",
   "execution_count": 8,
   "metadata": {
    "collapsed": false
   },
   "outputs": [
    {
     "data": {
      "text/html": [
       "<div style=\"max-height:1000px;max-width:1500px;overflow:auto;\">\n",
       "<table border=\"1\" class=\"dataframe\">\n",
       "  <thead>\n",
       "    <tr style=\"text-align: right;\">\n",
       "      <th></th>\n",
       "      <th>jaccard_body</th>\n",
       "    </tr>\n",
       "    <tr>\n",
       "      <th>cluster_pairs</th>\n",
       "      <th></th>\n",
       "    </tr>\n",
       "  </thead>\n",
       "  <tbody>\n",
       "    <tr>\n",
       "      <th>(62bae4a7eaa59674c72245e13900e0b915a1b42c, 263070aaa5b1af850437d3e38e7609bb8aac8eb9)</th>\n",
       "      <td>0.027778</td>\n",
       "    </tr>\n",
       "    <tr>\n",
       "      <th>(62bae4a7eaa59674c72245e13900e0b915a1b42c, 29a08c00c06f66024ee0a08c1bf2aa0de33910c6)</th>\n",
       "      <td>0.028571</td>\n",
       "    </tr>\n",
       "    <tr>\n",
       "      <th>(b137b7b2f54a94050029b5115232dbc1331eb919, 62bae4a7eaa59674c72245e13900e0b915a1b42c)</th>\n",
       "      <td>0.031746</td>\n",
       "    </tr>\n",
       "    <tr>\n",
       "      <th>(62bae4a7eaa59674c72245e13900e0b915a1b42c, 89694b2ade5608115b7898db1d0f4012e24ee234)</th>\n",
       "      <td>0.008547</td>\n",
       "    </tr>\n",
       "    <tr>\n",
       "      <th>(62bae4a7eaa59674c72245e13900e0b915a1b42c, 3ab32d9aa647db0de0ee0d896a454e31a59540f8)</th>\n",
       "      <td>0.000000</td>\n",
       "    </tr>\n",
       "  </tbody>\n",
       "</table>\n",
       "</div>"
      ],
      "text/plain": [
       "                                                                                      jaccard_body\n",
       "cluster_pairs                                                                                     \n",
       "(62bae4a7eaa59674c72245e13900e0b915a1b42c, 263070aaa5b1af850437d3e38e7609bb8aac8eb9)      0.027778\n",
       "(62bae4a7eaa59674c72245e13900e0b915a1b42c, 29a08c00c06f66024ee0a08c1bf2aa0de33910c6)      0.028571\n",
       "(b137b7b2f54a94050029b5115232dbc1331eb919, 62bae4a7eaa59674c72245e13900e0b915a1b42c)      0.031746\n",
       "(62bae4a7eaa59674c72245e13900e0b915a1b42c, 89694b2ade5608115b7898db1d0f4012e24ee234)      0.008547\n",
       "(62bae4a7eaa59674c72245e13900e0b915a1b42c, 3ab32d9aa647db0de0ee0d896a454e31a59540f8)      0.000000"
      ]
     },
     "execution_count": 8,
     "metadata": {},
     "output_type": "execute_result"
    }
   ],
   "source": [
    "cluster_df.head()"
   ]
  },
  {
   "cell_type": "markdown",
   "metadata": {},
   "source": [
    "### Write some pickles\n",
    "\n",
    "Specifically, the jaccard pairings for the texts, and the body-to-cluster-to-img-to-ad mapping."
   ]
  },
  {
   "cell_type": "code",
   "execution_count": 9,
   "metadata": {
    "collapsed": true
   },
   "outputs": [],
   "source": [
    "import pickle\n",
    "# pickle.dump(text_dict, open('text_to_frozenset_dict.pkl', 'wb'))\n",
    "# pickle.dump(jacard_dict, open('text_jacard_pairs.pkl', 'wb'))\n",
    "cluster_df.to_pickle('cluster_jaccard_df.pkl')\n",
    "img_df.to_pickle('body_cluster_img_ad_df.pkl')"
   ]
  }
 ],
 "metadata": {
  "kernelspec": {
   "display_name": "Python 3",
   "language": "python",
   "name": "python3"
  },
  "language_info": {
   "codemirror_mode": {
    "name": "ipython",
    "version": 3
   },
   "file_extension": ".py",
   "mimetype": "text/x-python",
   "name": "python",
   "nbconvert_exporter": "python",
   "pygments_lexer": "ipython3",
   "version": "3.4.3"
  }
 },
 "nbformat": 4,
 "nbformat_minor": 0
}
