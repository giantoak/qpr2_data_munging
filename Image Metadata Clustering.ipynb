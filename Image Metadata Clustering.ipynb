{
 "cells": [
  {
   "cell_type": "markdown",
   "metadata": {},
   "source": [
    "# Image Metadata Clustering"
   ]
  },
  {
   "cell_type": "code",
   "execution_count": 1,
   "metadata": {
    "collapsed": true
   },
   "outputs": [],
   "source": [
    "from itertools import combinations\n",
    "import ujson as json\n",
    "import numpy as np\n",
    "import os\n",
    "import pandas as pd\n",
    "import pickle"
   ]
  },
  {
   "cell_type": "code",
   "execution_count": 2,
   "metadata": {
    "collapsed": true
   },
   "outputs": [],
   "source": [
    "def image_metadata_cleaner(img):\n",
    "    \"\"\"\n",
    "    clean up image JSON from tika. \n",
    "    \"\"\"\n",
    "    to_del = ['meta']\n",
    "    for key in img:\n",
    "        if isinstance(img[key], list):\n",
    "            if len(img[key]) == 1:\n",
    "                img[key] = img[key][0]\n",
    "                # Kill empty lists and empty strings\n",
    "                # We are _assuming_ that list entries are strings\n",
    "            if len(img[key]) == 0:\n",
    "                to_del.append(key)\n",
    "            \n",
    "    for key in to_del:\n",
    "        del img[key]\n",
    "    \n",
    "    if 'content' in img:\n",
    "        img['content'] = ' '.join(img['content'].strip().split())\n",
    "    else:\n",
    "        img['content'] = ''\n",
    "    \n",
    "    if 'f_number' in img:\n",
    "        if isinstance(img['f_number'], list):\n",
    "            img['f_number'] = [x for x in img['f_number'] if x[0].lower() == 'f'][0]\n",
    "        if isinstance(img['f_number'], str):\n",
    "            try:\n",
    "                img['f_number'] = float(img['f_number'][1:].strip())\n",
    "            except:\n",
    "                print(img['f_number'])\n",
    "    \n",
    "    if 'id' in img:\n",
    "        img['id'] = img['id'].replace('/data/roxyimages/', '').replace('.jpg', '')\n",
    "    \n",
    "    # meta-feature for describing all listed features\n",
    "    img['features'] = frozenset([key for key in img.keys()])\n",
    "    \n",
    "    if 'camera_serial_number' in img:\n",
    "        img['camera_serial_number'] = ''.join(x for x in img['camera_serial_number'] if x.isdigit())\n",
    "    if 'x_parsed_by' in img:\n",
    "        img['x_parsed_by'] = str(set(img['x_parsed_by']))[1:-1]\n",
    "    if 'artist' not in img:\n",
    "        img['artist'] = ''\n",
    "    if isinstance(img['color_space'], list):\n",
    "        img['color_space'] = str(set(img['color_space']))[1:-1]\n",
    "        \n",
    "    return img"
   ]
  },
  {
   "cell_type": "code",
   "execution_count": 3,
   "metadata": {
    "collapsed": false
   },
   "outputs": [
    {
     "name": "stdout",
     "output_type": "stream",
     "text": [
      "There are 974 images attributed to 349 camera serial numbers,\n",
      "... and to 49 camera models.\n"
     ]
    }
   ],
   "source": [
    "jsn = json.load(open('../serial_numbers/serials.json'))\n",
    "imgs = [image_metadata_cleaner(x) for x in jsn['response']['docs']]\n",
    "\n",
    "no_serial = [img for img in imgs if 'camera_serial_number' not in img]\n",
    "imgs = [img for img in imgs if 'camera_serial_number' in img]\n",
    "    \n",
    "serials = {img['camera_serial_number'] for img in imgs}\n",
    "models = {img['model'] for img in imgs}\n",
    "print('There are {} images attributed to {} camera serial numbers,'.format(len(imgs), len(serials)))\n",
    "print('... and to {} camera models.'.format(len(models)))"
   ]
  },
  {
   "cell_type": "code",
   "execution_count": 4,
   "metadata": {
    "collapsed": false
   },
   "outputs": [
    {
     "name": "stdout",
     "output_type": "stream",
     "text": [
      "(974, 591)\n",
      "(974, 44)\n",
      "(974, 40)\n"
     ]
    }
   ],
   "source": [
    "# Aggressively prune the data frame by killing all unique fields and all fields with constant values\n",
    "img_df = pd.DataFrame.from_records(imgs)\n",
    "img_df.set_index('id', inplace=True)\n",
    "print(img_df.shape)\n",
    "img_df_2 = img_df.dropna(1)\n",
    "print(img_df_2.shape)\n",
    "img_df_2 = img_df_2.ix[:, img_df_2.apply(lambda x: x.value_counts().shape[0] != 1 , 0)]\n",
    "print(img_df_2.shape)"
   ]
  },
  {
   "cell_type": "code",
   "execution_count": 5,
   "metadata": {
    "collapsed": false
   },
   "outputs": [],
   "source": [
    "non_feature_cols = set(img_df_2.columns) - set('features')"
   ]
  },
  {
   "cell_type": "code",
   "execution_count": 6,
   "metadata": {
    "collapsed": true
   },
   "outputs": [],
   "source": [
    "def get_metadata_jaccard(ind_one, ind_two):\n",
    "    row_one = img_df_2.ix[ind_one, :]\n",
    "    row_two = img_df_2.ix[ind_two, :]\n",
    "    set_match = 1. * len(row_one['features'] & row_two['features'])/len(row_one['features'] | row_two['features'])\n",
    "    feature_match = 1.*sum(row_one.ix[non_feature_cols] == row_two.ix[non_feature_cols])/len(non_feature_cols)\n",
    "    hmean = 2 * set_match * feature_match / (set_match + feature_match)\n",
    "    return (set_match, feature_match, hmean)"
   ]
  },
  {
   "cell_type": "code",
   "execution_count": 7,
   "metadata": {
    "collapsed": false
   },
   "outputs": [],
   "source": [
    "metadata_index = list(combinations(list(img_df_2.index), 2))"
   ]
  },
  {
   "cell_type": "code",
   "execution_count": 8,
   "metadata": {
    "collapsed": false
   },
   "outputs": [],
   "source": [
    "metadata_jacs = [get_metadata_jaccard(x[0], x[1]) for x in metadata_index]"
   ]
  },
  {
   "cell_type": "code",
   "execution_count": 9,
   "metadata": {
    "collapsed": false
   },
   "outputs": [],
   "source": [
    "metadata_similarity_df = pd.DataFrame.from_records(metadata_jacs,\n",
    "                                                   columns=['label', 'value', 'hmean'])"
   ]
  },
  {
   "cell_type": "code",
   "execution_count": 10,
   "metadata": {
    "collapsed": false
   },
   "outputs": [
    {
     "data": {
      "text/html": [
       "<div style=\"max-height:1000px;max-width:1500px;overflow:auto;\">\n",
       "<table border=\"1\" class=\"dataframe\">\n",
       "  <thead>\n",
       "    <tr style=\"text-align: right;\">\n",
       "      <th></th>\n",
       "      <th>label</th>\n",
       "      <th>value</th>\n",
       "      <th>hmean</th>\n",
       "    </tr>\n",
       "    <tr>\n",
       "      <th>ad_img_pairs</th>\n",
       "      <th></th>\n",
       "      <th></th>\n",
       "      <th></th>\n",
       "    </tr>\n",
       "  </thead>\n",
       "  <tbody>\n",
       "    <tr>\n",
       "      <th>(01cf0852ee19216caa38aa1eed86ba640f8e5bff, 08f3d487a285889bba7fc9e9317bf8490ccba0c5)</th>\n",
       "      <td>0.319066</td>\n",
       "      <td>0.100</td>\n",
       "      <td>0.152275</td>\n",
       "    </tr>\n",
       "    <tr>\n",
       "      <th>(09e0a6f5f56c18ab31606fd1b9bdcdf9b7a3a90e, 01cf0852ee19216caa38aa1eed86ba640f8e5bff)</th>\n",
       "      <td>0.338843</td>\n",
       "      <td>0.100</td>\n",
       "      <td>0.154426</td>\n",
       "    </tr>\n",
       "    <tr>\n",
       "      <th>(0ccd1144442d01933c868066e87d01b395ea029b, 01cf0852ee19216caa38aa1eed86ba640f8e5bff)</th>\n",
       "      <td>0.280443</td>\n",
       "      <td>0.100</td>\n",
       "      <td>0.147430</td>\n",
       "    </tr>\n",
       "    <tr>\n",
       "      <th>(01cf0852ee19216caa38aa1eed86ba640f8e5bff, 0a59e7eaca0ddfe089cec00290a15290b1a63e82)</th>\n",
       "      <td>0.330677</td>\n",
       "      <td>0.075</td>\n",
       "      <td>0.122269</td>\n",
       "    </tr>\n",
       "    <tr>\n",
       "      <th>(08f9756024e5570693b789b459bb14ed6f6ec895, 01cf0852ee19216caa38aa1eed86ba640f8e5bff)</th>\n",
       "      <td>0.333333</td>\n",
       "      <td>0.100</td>\n",
       "      <td>0.153846</td>\n",
       "    </tr>\n",
       "  </tbody>\n",
       "</table>\n",
       "</div>"
      ],
      "text/plain": [
       "                                                                                         label  \\\n",
       "ad_img_pairs                                                                                     \n",
       "(01cf0852ee19216caa38aa1eed86ba640f8e5bff, 08f3d487a285889bba7fc9e9317bf8490ccba0c5)  0.319066   \n",
       "(09e0a6f5f56c18ab31606fd1b9bdcdf9b7a3a90e, 01cf0852ee19216caa38aa1eed86ba640f8e5bff)  0.338843   \n",
       "(0ccd1144442d01933c868066e87d01b395ea029b, 01cf0852ee19216caa38aa1eed86ba640f8e5bff)  0.280443   \n",
       "(01cf0852ee19216caa38aa1eed86ba640f8e5bff, 0a59e7eaca0ddfe089cec00290a15290b1a63e82)  0.330677   \n",
       "(08f9756024e5570693b789b459bb14ed6f6ec895, 01cf0852ee19216caa38aa1eed86ba640f8e5bff)  0.333333   \n",
       "\n",
       "                                                                                      value  \\\n",
       "ad_img_pairs                                                                                  \n",
       "(01cf0852ee19216caa38aa1eed86ba640f8e5bff, 08f3d487a285889bba7fc9e9317bf8490ccba0c5)  0.100   \n",
       "(09e0a6f5f56c18ab31606fd1b9bdcdf9b7a3a90e, 01cf0852ee19216caa38aa1eed86ba640f8e5bff)  0.100   \n",
       "(0ccd1144442d01933c868066e87d01b395ea029b, 01cf0852ee19216caa38aa1eed86ba640f8e5bff)  0.100   \n",
       "(01cf0852ee19216caa38aa1eed86ba640f8e5bff, 0a59e7eaca0ddfe089cec00290a15290b1a63e82)  0.075   \n",
       "(08f9756024e5570693b789b459bb14ed6f6ec895, 01cf0852ee19216caa38aa1eed86ba640f8e5bff)  0.100   \n",
       "\n",
       "                                                                                         hmean  \n",
       "ad_img_pairs                                                                                    \n",
       "(01cf0852ee19216caa38aa1eed86ba640f8e5bff, 08f3d487a285889bba7fc9e9317bf8490ccba0c5)  0.152275  \n",
       "(09e0a6f5f56c18ab31606fd1b9bdcdf9b7a3a90e, 01cf0852ee19216caa38aa1eed86ba640f8e5bff)  0.154426  \n",
       "(0ccd1144442d01933c868066e87d01b395ea029b, 01cf0852ee19216caa38aa1eed86ba640f8e5bff)  0.147430  \n",
       "(01cf0852ee19216caa38aa1eed86ba640f8e5bff, 0a59e7eaca0ddfe089cec00290a15290b1a63e82)  0.122269  \n",
       "(08f9756024e5570693b789b459bb14ed6f6ec895, 01cf0852ee19216caa38aa1eed86ba640f8e5bff)  0.153846  "
      ]
     },
     "execution_count": 10,
     "metadata": {},
     "output_type": "execute_result"
    }
   ],
   "source": [
    "metadata_index = [frozenset([x[0], x[1]]) for x in metadata_index]\n",
    "metadata_similarity_df.index = metadata_index\n",
    "metadata_similarity_df.index.name = 'ad_img_pairs'\n",
    "\n",
    "metadata_similarity_df.head()"
   ]
  },
  {
   "cell_type": "code",
   "execution_count": 11,
   "metadata": {
    "collapsed": true
   },
   "outputs": [],
   "source": [
    "metadata_similarity_df.to_pickle('metadata_jaccard_df.pkl')"
   ]
  }
 ],
 "metadata": {
  "kernelspec": {
   "display_name": "Python 3",
   "language": "python",
   "name": "python3"
  },
  "language_info": {
   "codemirror_mode": {
    "name": "ipython",
    "version": 3
   },
   "file_extension": ".py",
   "mimetype": "text/x-python",
   "name": "python",
   "nbconvert_exporter": "python",
   "pygments_lexer": "ipython3",
   "version": "3.4.3"
  }
 },
 "nbformat": 4,
 "nbformat_minor": 0
}
